{
  "nbformat": 4,
  "nbformat_minor": 0,
  "metadata": {
    "colab": {
      "provenance": [],
      "authorship_tag": "ABX9TyNA9SGtglBqr8AIXuCoDy6J",
      "include_colab_link": true
    },
    "kernelspec": {
      "name": "python3",
      "display_name": "Python 3"
    },
    "language_info": {
      "name": "python"
    }
  },
  "cells": [
    {
      "cell_type": "markdown",
      "metadata": {
        "id": "view-in-github",
        "colab_type": "text"
      },
      "source": [
        "<a href=\"https://colab.research.google.com/github/sanjana58-dot/Challange-Questions/blob/main/Challange_Question.ipynb\" target=\"_parent\"><img src=\"https://colab.research.google.com/assets/colab-badge.svg\" alt=\"Open In Colab\"/></a>"
      ]
    },
    {
      "cell_type": "code",
      "execution_count": 2,
      "metadata": {
        "colab": {
          "base_uri": "https://localhost:8080/"
        },
        "id": "DBVOoLEpXvP8",
        "outputId": "9b0d0044-537e-4eb3-8851-1b4b804a0a95"
      },
      "outputs": [
        {
          "output_type": "stream",
          "name": "stdout",
          "text": [
            "['Ram', '1', 'Shyam', '2', 'Aman', '3']\n",
            "['1', '2', '3', 'Aman', 'Ram', 'Shyam']\n"
          ]
        }
      ],
      "source": [
        "L = [\"Ram\",\"1\",\"Shyam\",\"2\",\"Aman\",\"3\"]  #here given problem was L=[\"Ram\",1,\"Shyam\",2,\"Aman\",3]\n",
        "print(L)                               #and we all know we can't operate string and integer/float simultaneously that's why this code was throwing error\n",
        "L.sort()                               #for error free output we made integer to be string by putting them in double chords\n",
        "print(L)"
      ]
    }
  ]
}